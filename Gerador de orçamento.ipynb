{
 "cells": [
  {
   "cell_type": "markdown",
   "id": "9f2c14f2",
   "metadata": {},
   "source": [
    "# Gerador de orçamento\n"
   ]
  },
  {
   "cell_type": "markdown",
   "id": "485235ca",
   "metadata": {},
   "source": [
    "## Mostrando dados ao usuário"
   ]
  },
  {
   "cell_type": "code",
   "execution_count": 8,
   "id": "07120cc5",
   "metadata": {},
   "outputs": [
    {
     "name": "stdout",
     "output_type": "stream",
     "text": [
      "Orçamento gerado com sucesso!\n",
      "Semana do Python na prática!\n",
      "Eu vou ser expert na linguagem Python!\n"
     ]
    }
   ],
   "source": [
    "print(\"Orçamento gerado com sucesso!\")\n",
    "print(\"Semana do Python na prática!\")\n",
    "print(\"Eu vou ser expert na linguagem Python!\")"
   ]
  },
  {
   "cell_type": "markdown",
   "id": "392a8013",
   "metadata": {},
   "source": [
    "# Entrada de dados do usuário"
   ]
  },
  {
   "cell_type": "code",
   "execution_count": 9,
   "id": "fce8217e",
   "metadata": {},
   "outputs": [
    {
     "name": "stdout",
     "output_type": "stream",
     "text": [
      "Digite a descrição do projeto: Gerenciamento de tarefas\n",
      "Digite a quantidade de horas previstas: 300\n",
      "Digite o valor da hora trabalhada: 200\n",
      "Digite o prazo estimado: 6 meses\n"
     ]
    },
    {
     "data": {
      "text/plain": [
       "'6 meses'"
      ]
     },
     "execution_count": 9,
     "metadata": {},
     "output_type": "execute_result"
    }
   ],
   "source": [
    "input(\"Digite a descrição do projeto: \") \n",
    "input(\"Digite a quantidade de horas previstas: \")\n",
    "input(\"Digite o valor da hora trabalhada: \")\n",
    "input(\"Digite o prazo estimado: \")"
   ]
  },
  {
   "cell_type": "markdown",
   "id": "add68691",
   "metadata": {},
   "source": [
    "# Armazenando dados em variáveis"
   ]
  },
  {
   "cell_type": "code",
   "execution_count": 10,
   "id": "ab73f309",
   "metadata": {},
   "outputs": [
    {
     "name": "stdout",
     "output_type": "stream",
     "text": [
      "Digite a descrição do projeto: Gerenciamento de tarefas\n",
      "Digite a quantidade de horas previstas: 300\n",
      "Digite o valor da hora trabalhada: 200\n",
      "Digite o prazo estimado: 6 meses\n"
     ]
    }
   ],
   "source": [
    "projeto = input(\"Digite a descrição do projeto: \")\n",
    "horas_previstas = input(\"Digite a quantidade de horas previstas: \")\n",
    "valor_hora = input(\"Digite o valor da hora trabalhada: \")\n",
    "prazo = input(\"Digite o prazo estimado: \")    "
   ]
  },
  {
   "cell_type": "markdown",
   "id": "45c0cda4",
   "metadata": {},
   "source": [
    "# Realizando cálculos com Python\n",
    "\n",
    "- quantidade de horas previstas * valor hora trabalhada"
   ]
  },
  {
   "cell_type": "code",
   "execution_count": 11,
   "id": "ff8f1394",
   "metadata": {},
   "outputs": [],
   "source": [
    "valor_total = int(horas_previstas) * int(valor_hora)"
   ]
  },
  {
   "cell_type": "code",
   "execution_count": 12,
   "id": "35b57f74",
   "metadata": {},
   "outputs": [
    {
     "name": "stdout",
     "output_type": "stream",
     "text": [
      "60000\n"
     ]
    }
   ],
   "source": [
    "print(valor_total)"
   ]
  },
  {
   "cell_type": "markdown",
   "id": "2b736754",
   "metadata": {},
   "source": [
    "# Tipo de dado\n",
    "\n",
    "- texto(str)\n",
    "- número(int)"
   ]
  },
  {
   "cell_type": "code",
   "execution_count": null,
   "id": "21066647",
   "metadata": {},
   "outputs": [],
   "source": [
    "int(\"10\")"
   ]
  },
  {
   "cell_type": "markdown",
   "id": "84b53b8d",
   "metadata": {},
   "source": [
    "# Gerando o PDF"
   ]
  },
  {
   "cell_type": "code",
   "execution_count": 5,
   "id": "c502966c",
   "metadata": {},
   "outputs": [
    {
     "name": "stdout",
     "output_type": "stream",
     "text": [
      "Requirement already satisfied: fpdf in c:\\users\\josul\\python\\anaconda3\\lib\\site-packages (1.7.2)\n"
     ]
    }
   ],
   "source": [
    "!pip install fpdf"
   ]
  },
  {
   "cell_type": "code",
   "execution_count": 13,
   "id": "6502b4af",
   "metadata": {},
   "outputs": [],
   "source": [
    "from fpdf import FPDF"
   ]
  },
  {
   "cell_type": "code",
   "execution_count": 14,
   "id": "218f7401",
   "metadata": {},
   "outputs": [
    {
     "name": "stdout",
     "output_type": "stream",
     "text": [
      "Orçamento realizado com sucesso!\n"
     ]
    }
   ],
   "source": [
    "pdf = FPDF()\n",
    "\n",
    "pdf.add_page()\n",
    "pdf.set_font(\"Arial\")\n",
    "\n",
    "pdf.image(\"template.png\", x=0, y=0)\n",
    "\n",
    "pdf.text(115, 145, projeto)\n",
    "pdf.text(115, 160, horas_previstas)\n",
    "pdf.text(115, 175, valor_hora)\n",
    "pdf.text(115, 190, prazo)\n",
    "pdf.text(115, 205, str(valor_total))\n",
    "\n",
    "pdf.output(\"Orçamento.pdf\")\n",
    "\n",
    "print(\"Orçamento realizado com sucesso!\")"
   ]
  },
  {
   "cell_type": "code",
   "execution_count": null,
   "id": "159927a7",
   "metadata": {},
   "outputs": [],
   "source": []
  },
  {
   "cell_type": "markdown",
   "id": "d735edb1",
   "metadata": {},
   "source": []
  },
  {
   "cell_type": "code",
   "execution_count": null,
   "id": "2d6a7cec",
   "metadata": {},
   "outputs": [],
   "source": []
  },
  {
   "cell_type": "code",
   "execution_count": null,
   "id": "95f63975",
   "metadata": {},
   "outputs": [],
   "source": []
  }
 ],
 "metadata": {
  "kernelspec": {
   "display_name": "Python 3 (ipykernel)",
   "language": "python",
   "name": "python3"
  },
  "language_info": {
   "codemirror_mode": {
    "name": "ipython",
    "version": 3
   },
   "file_extension": ".py",
   "mimetype": "text/x-python",
   "name": "python",
   "nbconvert_exporter": "python",
   "pygments_lexer": "ipython3",
   "version": "3.11.5"
  }
 },
 "nbformat": 4,
 "nbformat_minor": 5
}
